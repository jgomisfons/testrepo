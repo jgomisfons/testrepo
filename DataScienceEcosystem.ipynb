{
 "cells": [
  {
   "cell_type": "markdown",
   "id": "24d6edc6-ed60-4bfa-823b-df775628e4d2",
   "metadata": {
    "tags": []
   },
   "source": [
    "# Data Science Tools and Ecosystem"
   ]
  },
  {
   "cell_type": "markdown",
   "id": "6c9f0277-39df-44bd-888d-f5ce8e9b61ca",
   "metadata": {},
   "source": [
    "In this notebook, Data Science Tools and Ecosystem are summarized."
   ]
  },
  {
   "cell_type": "markdown",
   "id": "6eb86316-8df8-4d6e-9283-aabb0c15c4f4",
   "metadata": {},
   "source": [
    "Objectives:\n",
    "- List popular languages that Data Scientists use\n",
    "- List commonly used libraries that Data Scientists use\n",
    "- List popular development environment open source tools used by Data Scientists\n",
    "- Show examples evaluating arithmetic expressions in Python"
   ]
  },
  {
   "cell_type": "markdown",
   "id": "d978ce29-8358-4a28-b93e-71066f7e28ae",
   "metadata": {},
   "source": [
    "Some of the popular languages that Data Scientists use are:\n",
    "1. Python\n",
    "2. R\n",
    "3. Julia\n",
    "4. SQL"
   ]
  },
  {
   "cell_type": "markdown",
   "id": "f4733b13-3073-4202-9cc2-d4ce95cbd4f5",
   "metadata": {},
   "source": [
    "Some of the commonly used libraries used by Data Scientists include:\n",
    "1. pandas\n",
    "2. matplotlib\n",
    "3. ggplot\n",
    "4. scikit-learn"
   ]
  },
  {
   "cell_type": "markdown",
   "id": "449d6a48-1296-4702-b8d3-7da8c12a86b4",
   "metadata": {},
   "source": [
    "|Data Science Tools|\n",
    "|-|\n",
    "|Jupyter Notebook|\n",
    "|Spyder|\n",
    "|RStudio|"
   ]
  },
  {
   "cell_type": "markdown",
   "id": "adc31f4a-2267-4afa-8eff-f9305b26afa1",
   "metadata": {},
   "source": [
    "### Below are a few examples of evaluating arithmetic expressions in Python"
   ]
  },
  {
   "cell_type": "code",
   "execution_count": 1,
   "id": "d51f3b1f-24a0-440f-8034-386b8dcac49c",
   "metadata": {
    "tags": []
   },
   "outputs": [
    {
     "data": {
      "text/plain": [
       "17"
      ]
     },
     "execution_count": 1,
     "metadata": {},
     "output_type": "execute_result"
    }
   ],
   "source": [
    "# This a simple arithmetic expression to mutiply then add integers\n",
    "(3*4)+5"
   ]
  },
  {
   "cell_type": "code",
   "execution_count": 2,
   "id": "23ca3f5e-0c3e-4596-8aff-e7a7ab949fb3",
   "metadata": {
    "tags": []
   },
   "outputs": [
    {
     "name": "stdout",
     "output_type": "stream",
     "text": [
      "3.3333333333333335\n"
     ]
    }
   ],
   "source": [
    "# This will convert 200 minutes to hours by dividing by 60\n",
    "a=200;\n",
    "b=a/60;\n",
    "print(b)"
   ]
  },
  {
   "cell_type": "markdown",
   "id": "e546ad70-1079-4f3a-974b-d4bdcc120e39",
   "metadata": {},
   "source": [
    "## Author\n",
    "Joaquín Gomis Fons"
   ]
  },
  {
   "cell_type": "code",
   "execution_count": null,
   "id": "d28c807a-31c5-4b83-b6e2-afb79c151737",
   "metadata": {},
   "outputs": [],
   "source": []
  }
 ],
 "metadata": {
  "kernelspec": {
   "display_name": "Python",
   "language": "python",
   "name": "conda-env-python-py"
  },
  "language_info": {
   "codemirror_mode": {
    "name": "ipython",
    "version": 3
   },
   "file_extension": ".py",
   "mimetype": "text/x-python",
   "name": "python",
   "nbconvert_exporter": "python",
   "pygments_lexer": "ipython3",
   "version": "3.7.12"
  }
 },
 "nbformat": 4,
 "nbformat_minor": 5
}
